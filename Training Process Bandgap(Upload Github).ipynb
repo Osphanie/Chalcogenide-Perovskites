{
 "cells": [
  {
   "cell_type": "markdown",
   "id": "53219297-b881-4d19-8786-5e41c5199d93",
   "metadata": {},
   "source": [
    "# 2. Training the model "
   ]
  },
  {
   "cell_type": "markdown",
   "id": "04ba9db4-12d8-4906-ac23-9200fada1bd0",
   "metadata": {},
   "source": [
    "## 2.1 Loading dataset "
   ]
  },
  {
   "cell_type": "code",
   "execution_count": 1,
   "id": "eba102a6-38a3-42d2-b31f-59c6bdfe8428",
   "metadata": {},
   "outputs": [],
   "source": [
    "import pandas as pd \n",
    "import numpy as np \n",
    "import sklearn \n",
    "from sklearn.model_selection import train_test_split\n",
    "from sklearn.model_selection import KFold\n",
    "\n",
    "from sklearn.utils import shuffle\n",
    "from sklearn.preprocessing import MinMaxScaler \n",
    "from sklearn.svm import SVR\n",
    "\n",
    "import matplotlib.pyplot as plt"
   ]
  },
  {
   "cell_type": "code",
   "execution_count": 2,
   "id": "3d929df9-a629-48ed-9c9a-6358c8007ce0",
   "metadata": {},
   "outputs": [],
   "source": [
    "# ambil dataset dari direktori \n",
    "# get data from csv file \n",
    "pd_data = pd.read_csv('independent_dataset_baru.csv', sep=';')"
   ]
  },
  {
   "cell_type": "code",
   "execution_count": 3,
   "id": "838ae5ab-50ce-46cb-98d9-84ef5ff9c3f0",
   "metadata": {},
   "outputs": [
    {
     "data": {
      "text/html": [
       "<div>\n",
       "<style scoped>\n",
       "    .dataframe tbody tr th:only-of-type {\n",
       "        vertical-align: middle;\n",
       "    }\n",
       "\n",
       "    .dataframe tbody tr th {\n",
       "        vertical-align: top;\n",
       "    }\n",
       "\n",
       "    .dataframe thead th {\n",
       "        text-align: right;\n",
       "    }\n",
       "</style>\n",
       "<table border=\"1\" class=\"dataframe\">\n",
       "  <thead>\n",
       "    <tr style=\"text-align: right;\">\n",
       "      <th></th>\n",
       "      <th>OSA</th>\n",
       "      <th>OSB</th>\n",
       "      <th>EA</th>\n",
       "      <th>EC</th>\n",
       "      <th>CNA</th>\n",
       "      <th>IRA</th>\n",
       "      <th>IRC</th>\n",
       "      <th>DC</th>\n",
       "      <th>BANDGAP</th>\n",
       "    </tr>\n",
       "  </thead>\n",
       "  <tbody>\n",
       "    <tr>\n",
       "      <th>0</th>\n",
       "      <td>0.25</td>\n",
       "      <td>0.6</td>\n",
       "      <td>0.064935</td>\n",
       "      <td>1.000000</td>\n",
       "      <td>1.000000</td>\n",
       "      <td>0.762195</td>\n",
       "      <td>0.671642</td>\n",
       "      <td>0.000000</td>\n",
       "      <td>2.14</td>\n",
       "    </tr>\n",
       "    <tr>\n",
       "      <th>1</th>\n",
       "      <td>0.25</td>\n",
       "      <td>0.6</td>\n",
       "      <td>0.064935</td>\n",
       "      <td>1.000000</td>\n",
       "      <td>1.000000</td>\n",
       "      <td>0.762195</td>\n",
       "      <td>0.671642</td>\n",
       "      <td>0.000000</td>\n",
       "      <td>3.04</td>\n",
       "    </tr>\n",
       "    <tr>\n",
       "      <th>2</th>\n",
       "      <td>0.25</td>\n",
       "      <td>0.6</td>\n",
       "      <td>0.064935</td>\n",
       "      <td>0.358209</td>\n",
       "      <td>1.000000</td>\n",
       "      <td>0.762195</td>\n",
       "      <td>1.000000</td>\n",
       "      <td>0.331578</td>\n",
       "      <td>1.02</td>\n",
       "    </tr>\n",
       "    <tr>\n",
       "      <th>3</th>\n",
       "      <td>0.00</td>\n",
       "      <td>0.8</td>\n",
       "      <td>0.720779</td>\n",
       "      <td>0.358209</td>\n",
       "      <td>0.333333</td>\n",
       "      <td>0.341463</td>\n",
       "      <td>1.000000</td>\n",
       "      <td>0.331578</td>\n",
       "      <td>0.98</td>\n",
       "    </tr>\n",
       "    <tr>\n",
       "      <th>4</th>\n",
       "      <td>0.00</td>\n",
       "      <td>0.8</td>\n",
       "      <td>0.000000</td>\n",
       "      <td>0.335821</td>\n",
       "      <td>1.000000</td>\n",
       "      <td>1.000000</td>\n",
       "      <td>0.000000</td>\n",
       "      <td>0.767575</td>\n",
       "      <td>1.47</td>\n",
       "    </tr>\n",
       "    <tr>\n",
       "      <th>...</th>\n",
       "      <td>...</td>\n",
       "      <td>...</td>\n",
       "      <td>...</td>\n",
       "      <td>...</td>\n",
       "      <td>...</td>\n",
       "      <td>...</td>\n",
       "      <td>...</td>\n",
       "      <td>...</td>\n",
       "      <td>...</td>\n",
       "    </tr>\n",
       "    <tr>\n",
       "      <th>113</th>\n",
       "      <td>0.00</td>\n",
       "      <td>0.6</td>\n",
       "      <td>0.720779</td>\n",
       "      <td>0.358209</td>\n",
       "      <td>0.555556</td>\n",
       "      <td>0.597561</td>\n",
       "      <td>1.000000</td>\n",
       "      <td>0.331578</td>\n",
       "      <td>2.30</td>\n",
       "    </tr>\n",
       "    <tr>\n",
       "      <th>114</th>\n",
       "      <td>0.00</td>\n",
       "      <td>0.8</td>\n",
       "      <td>0.720779</td>\n",
       "      <td>0.298507</td>\n",
       "      <td>0.555556</td>\n",
       "      <td>0.597561</td>\n",
       "      <td>0.000000</td>\n",
       "      <td>0.796428</td>\n",
       "      <td>1.40</td>\n",
       "    </tr>\n",
       "    <tr>\n",
       "      <th>115</th>\n",
       "      <td>0.00</td>\n",
       "      <td>0.8</td>\n",
       "      <td>0.720779</td>\n",
       "      <td>0.000000</td>\n",
       "      <td>0.555556</td>\n",
       "      <td>0.597561</td>\n",
       "      <td>0.350746</td>\n",
       "      <td>1.000000</td>\n",
       "      <td>1.00</td>\n",
       "    </tr>\n",
       "    <tr>\n",
       "      <th>116</th>\n",
       "      <td>0.00</td>\n",
       "      <td>0.4</td>\n",
       "      <td>0.720779</td>\n",
       "      <td>0.000000</td>\n",
       "      <td>0.555556</td>\n",
       "      <td>0.597561</td>\n",
       "      <td>0.350746</td>\n",
       "      <td>1.000000</td>\n",
       "      <td>1.70</td>\n",
       "    </tr>\n",
       "    <tr>\n",
       "      <th>117</th>\n",
       "      <td>0.00</td>\n",
       "      <td>0.8</td>\n",
       "      <td>0.720779</td>\n",
       "      <td>0.358209</td>\n",
       "      <td>0.333333</td>\n",
       "      <td>0.597561</td>\n",
       "      <td>1.000000</td>\n",
       "      <td>0.331578</td>\n",
       "      <td>1.32</td>\n",
       "    </tr>\n",
       "  </tbody>\n",
       "</table>\n",
       "<p>118 rows × 9 columns</p>\n",
       "</div>"
      ],
      "text/plain": [
       "      OSA  OSB        EA        EC       CNA       IRA       IRC        DC  \\\n",
       "0    0.25  0.6  0.064935  1.000000  1.000000  0.762195  0.671642  0.000000   \n",
       "1    0.25  0.6  0.064935  1.000000  1.000000  0.762195  0.671642  0.000000   \n",
       "2    0.25  0.6  0.064935  0.358209  1.000000  0.762195  1.000000  0.331578   \n",
       "3    0.00  0.8  0.720779  0.358209  0.333333  0.341463  1.000000  0.331578   \n",
       "4    0.00  0.8  0.000000  0.335821  1.000000  1.000000  0.000000  0.767575   \n",
       "..    ...  ...       ...       ...       ...       ...       ...       ...   \n",
       "113  0.00  0.6  0.720779  0.358209  0.555556  0.597561  1.000000  0.331578   \n",
       "114  0.00  0.8  0.720779  0.298507  0.555556  0.597561  0.000000  0.796428   \n",
       "115  0.00  0.8  0.720779  0.000000  0.555556  0.597561  0.350746  1.000000   \n",
       "116  0.00  0.4  0.720779  0.000000  0.555556  0.597561  0.350746  1.000000   \n",
       "117  0.00  0.8  0.720779  0.358209  0.333333  0.597561  1.000000  0.331578   \n",
       "\n",
       "     BANDGAP  \n",
       "0       2.14  \n",
       "1       3.04  \n",
       "2       1.02  \n",
       "3       0.98  \n",
       "4       1.47  \n",
       "..       ...  \n",
       "113     2.30  \n",
       "114     1.40  \n",
       "115     1.00  \n",
       "116     1.70  \n",
       "117     1.32  \n",
       "\n",
       "[118 rows x 9 columns]"
      ]
     },
     "execution_count": 3,
     "metadata": {},
     "output_type": "execute_result"
    }
   ],
   "source": [
    "pd_data"
   ]
  },
  {
   "cell_type": "code",
   "execution_count": 4,
   "id": "15576ef9-6b51-45b9-b2d0-12ef026046f3",
   "metadata": {},
   "outputs": [],
   "source": [
    "# separating data train : X and label : y \n",
    "X = pd_data.iloc[:,0:8]\n",
    "y = pd_data['BANDGAP']"
   ]
  },
  {
   "cell_type": "code",
   "execution_count": 5,
   "id": "1a5eb968-53d9-4db3-8e76-64a4c9b0d5aa",
   "metadata": {},
   "outputs": [
    {
     "data": {
      "text/html": [
       "<div>\n",
       "<style scoped>\n",
       "    .dataframe tbody tr th:only-of-type {\n",
       "        vertical-align: middle;\n",
       "    }\n",
       "\n",
       "    .dataframe tbody tr th {\n",
       "        vertical-align: top;\n",
       "    }\n",
       "\n",
       "    .dataframe thead th {\n",
       "        text-align: right;\n",
       "    }\n",
       "</style>\n",
       "<table border=\"1\" class=\"dataframe\">\n",
       "  <thead>\n",
       "    <tr style=\"text-align: right;\">\n",
       "      <th></th>\n",
       "      <th>OSA</th>\n",
       "      <th>OSB</th>\n",
       "      <th>EA</th>\n",
       "      <th>EC</th>\n",
       "      <th>CNA</th>\n",
       "      <th>IRA</th>\n",
       "      <th>IRC</th>\n",
       "      <th>DC</th>\n",
       "    </tr>\n",
       "  </thead>\n",
       "  <tbody>\n",
       "    <tr>\n",
       "      <th>0</th>\n",
       "      <td>0.25</td>\n",
       "      <td>0.6</td>\n",
       "      <td>0.064935</td>\n",
       "      <td>1.000000</td>\n",
       "      <td>1.000000</td>\n",
       "      <td>0.762195</td>\n",
       "      <td>0.671642</td>\n",
       "      <td>0.000000</td>\n",
       "    </tr>\n",
       "    <tr>\n",
       "      <th>1</th>\n",
       "      <td>0.25</td>\n",
       "      <td>0.6</td>\n",
       "      <td>0.064935</td>\n",
       "      <td>1.000000</td>\n",
       "      <td>1.000000</td>\n",
       "      <td>0.762195</td>\n",
       "      <td>0.671642</td>\n",
       "      <td>0.000000</td>\n",
       "    </tr>\n",
       "    <tr>\n",
       "      <th>2</th>\n",
       "      <td>0.25</td>\n",
       "      <td>0.6</td>\n",
       "      <td>0.064935</td>\n",
       "      <td>0.358209</td>\n",
       "      <td>1.000000</td>\n",
       "      <td>0.762195</td>\n",
       "      <td>1.000000</td>\n",
       "      <td>0.331578</td>\n",
       "    </tr>\n",
       "    <tr>\n",
       "      <th>3</th>\n",
       "      <td>0.00</td>\n",
       "      <td>0.8</td>\n",
       "      <td>0.720779</td>\n",
       "      <td>0.358209</td>\n",
       "      <td>0.333333</td>\n",
       "      <td>0.341463</td>\n",
       "      <td>1.000000</td>\n",
       "      <td>0.331578</td>\n",
       "    </tr>\n",
       "    <tr>\n",
       "      <th>4</th>\n",
       "      <td>0.00</td>\n",
       "      <td>0.8</td>\n",
       "      <td>0.000000</td>\n",
       "      <td>0.335821</td>\n",
       "      <td>1.000000</td>\n",
       "      <td>1.000000</td>\n",
       "      <td>0.000000</td>\n",
       "      <td>0.767575</td>\n",
       "    </tr>\n",
       "    <tr>\n",
       "      <th>...</th>\n",
       "      <td>...</td>\n",
       "      <td>...</td>\n",
       "      <td>...</td>\n",
       "      <td>...</td>\n",
       "      <td>...</td>\n",
       "      <td>...</td>\n",
       "      <td>...</td>\n",
       "      <td>...</td>\n",
       "    </tr>\n",
       "    <tr>\n",
       "      <th>113</th>\n",
       "      <td>0.00</td>\n",
       "      <td>0.6</td>\n",
       "      <td>0.720779</td>\n",
       "      <td>0.358209</td>\n",
       "      <td>0.555556</td>\n",
       "      <td>0.597561</td>\n",
       "      <td>1.000000</td>\n",
       "      <td>0.331578</td>\n",
       "    </tr>\n",
       "    <tr>\n",
       "      <th>114</th>\n",
       "      <td>0.00</td>\n",
       "      <td>0.8</td>\n",
       "      <td>0.720779</td>\n",
       "      <td>0.298507</td>\n",
       "      <td>0.555556</td>\n",
       "      <td>0.597561</td>\n",
       "      <td>0.000000</td>\n",
       "      <td>0.796428</td>\n",
       "    </tr>\n",
       "    <tr>\n",
       "      <th>115</th>\n",
       "      <td>0.00</td>\n",
       "      <td>0.8</td>\n",
       "      <td>0.720779</td>\n",
       "      <td>0.000000</td>\n",
       "      <td>0.555556</td>\n",
       "      <td>0.597561</td>\n",
       "      <td>0.350746</td>\n",
       "      <td>1.000000</td>\n",
       "    </tr>\n",
       "    <tr>\n",
       "      <th>116</th>\n",
       "      <td>0.00</td>\n",
       "      <td>0.4</td>\n",
       "      <td>0.720779</td>\n",
       "      <td>0.000000</td>\n",
       "      <td>0.555556</td>\n",
       "      <td>0.597561</td>\n",
       "      <td>0.350746</td>\n",
       "      <td>1.000000</td>\n",
       "    </tr>\n",
       "    <tr>\n",
       "      <th>117</th>\n",
       "      <td>0.00</td>\n",
       "      <td>0.8</td>\n",
       "      <td>0.720779</td>\n",
       "      <td>0.358209</td>\n",
       "      <td>0.333333</td>\n",
       "      <td>0.597561</td>\n",
       "      <td>1.000000</td>\n",
       "      <td>0.331578</td>\n",
       "    </tr>\n",
       "  </tbody>\n",
       "</table>\n",
       "<p>118 rows × 8 columns</p>\n",
       "</div>"
      ],
      "text/plain": [
       "      OSA  OSB        EA        EC       CNA       IRA       IRC        DC\n",
       "0    0.25  0.6  0.064935  1.000000  1.000000  0.762195  0.671642  0.000000\n",
       "1    0.25  0.6  0.064935  1.000000  1.000000  0.762195  0.671642  0.000000\n",
       "2    0.25  0.6  0.064935  0.358209  1.000000  0.762195  1.000000  0.331578\n",
       "3    0.00  0.8  0.720779  0.358209  0.333333  0.341463  1.000000  0.331578\n",
       "4    0.00  0.8  0.000000  0.335821  1.000000  1.000000  0.000000  0.767575\n",
       "..    ...  ...       ...       ...       ...       ...       ...       ...\n",
       "113  0.00  0.6  0.720779  0.358209  0.555556  0.597561  1.000000  0.331578\n",
       "114  0.00  0.8  0.720779  0.298507  0.555556  0.597561  0.000000  0.796428\n",
       "115  0.00  0.8  0.720779  0.000000  0.555556  0.597561  0.350746  1.000000\n",
       "116  0.00  0.4  0.720779  0.000000  0.555556  0.597561  0.350746  1.000000\n",
       "117  0.00  0.8  0.720779  0.358209  0.333333  0.597561  1.000000  0.331578\n",
       "\n",
       "[118 rows x 8 columns]"
      ]
     },
     "execution_count": 5,
     "metadata": {},
     "output_type": "execute_result"
    }
   ],
   "source": [
    "X"
   ]
  },
  {
   "cell_type": "code",
   "execution_count": 6,
   "id": "abbb63cf-da59-400b-84ef-44c258d3a516",
   "metadata": {},
   "outputs": [
    {
     "data": {
      "text/plain": [
       "0      2.14\n",
       "1      3.04\n",
       "2      1.02\n",
       "3      0.98\n",
       "4      1.47\n",
       "       ... \n",
       "113    2.30\n",
       "114    1.40\n",
       "115    1.00\n",
       "116    1.70\n",
       "117    1.32\n",
       "Name: BANDGAP, Length: 118, dtype: float64"
      ]
     },
     "execution_count": 6,
     "metadata": {},
     "output_type": "execute_result"
    }
   ],
   "source": [
    "y"
   ]
  },
  {
   "cell_type": "code",
   "execution_count": 7,
   "id": "85a25eb7-090c-44ac-abcc-14f97f576b4a",
   "metadata": {},
   "outputs": [],
   "source": [
    "# preparing the data \n",
    "from sklearn.model_selection import train_test_split\n",
    "\n",
    "# X = features, y = labels/target\n",
    "X_train, X_test, y_train, y_test = train_test_split(X, y, test_size=0.2, random_state=42)"
   ]
  },
  {
   "cell_type": "code",
   "execution_count": 8,
   "id": "cbdf2f52-db27-42fc-962e-7e059e61860c",
   "metadata": {},
   "outputs": [],
   "source": [
    "# convert all to numpy array \n",
    "X_train_np = np.array(X_train)\n",
    "X_test_np = np.array(X_test)\n",
    "y_train_np = np.array(y_train)\n",
    "y_test_np = np.array(y_test)"
   ]
  },
  {
   "cell_type": "code",
   "execution_count": 9,
   "id": "a011a11e-3176-4e2c-b589-20a6fcadc42e",
   "metadata": {},
   "outputs": [
    {
     "data": {
      "text/plain": [
       "(94, 8)"
      ]
     },
     "execution_count": 9,
     "metadata": {},
     "output_type": "execute_result"
    }
   ],
   "source": [
    "X_train_np.shape "
   ]
  },
  {
   "cell_type": "code",
   "execution_count": 10,
   "id": "4691e660-86ce-4bd0-b49e-1c5c76fe79cc",
   "metadata": {},
   "outputs": [
    {
     "data": {
      "text/plain": [
       "(24, 8)"
      ]
     },
     "execution_count": 10,
     "metadata": {},
     "output_type": "execute_result"
    }
   ],
   "source": [
    "X_test_np.shape"
   ]
  },
  {
   "cell_type": "code",
   "execution_count": 11,
   "id": "fca709a5-38d2-4530-87ab-b8712918134d",
   "metadata": {},
   "outputs": [
    {
     "data": {
      "text/plain": [
       "(94,)"
      ]
     },
     "execution_count": 11,
     "metadata": {},
     "output_type": "execute_result"
    }
   ],
   "source": [
    "y_train_np.shape"
   ]
  },
  {
   "cell_type": "code",
   "execution_count": 12,
   "id": "132ab0d1-4dc9-4bfd-aa8c-17f27d7c8ee0",
   "metadata": {},
   "outputs": [
    {
     "data": {
      "text/plain": [
       "(24,)"
      ]
     },
     "execution_count": 12,
     "metadata": {},
     "output_type": "execute_result"
    }
   ],
   "source": [
    "y_test_np.shape"
   ]
  },
  {
   "cell_type": "code",
   "execution_count": 13,
   "id": "8833932f-559a-4cf7-84c9-962f32282e3a",
   "metadata": {},
   "outputs": [
    {
     "data": {
      "text/plain": [
       "array([[1.3 ],\n",
       "       [1.56],\n",
       "       [1.47],\n",
       "       [2.27],\n",
       "       [0.78],\n",
       "       [1.7 ],\n",
       "       [1.99],\n",
       "       [0.57],\n",
       "       [1.  ],\n",
       "       [1.98],\n",
       "       [0.91],\n",
       "       [1.  ],\n",
       "       [0.9 ],\n",
       "       [2.1 ],\n",
       "       [1.02],\n",
       "       [0.77],\n",
       "       [1.53],\n",
       "       [2.14],\n",
       "       [2.5 ],\n",
       "       [0.99],\n",
       "       [1.25],\n",
       "       [0.93],\n",
       "       [1.59],\n",
       "       [1.73]])"
      ]
     },
     "execution_count": 13,
     "metadata": {},
     "output_type": "execute_result"
    }
   ],
   "source": [
    "y_train_np.reshape(94,1)\n",
    "y_test_np.reshape(24,1)"
   ]
  },
  {
   "cell_type": "code",
   "execution_count": 14,
   "id": "22cd8a89-343d-4308-8724-daf968ee24fd",
   "metadata": {},
   "outputs": [
    {
     "name": "stdout",
     "output_type": "stream",
     "text": [
      "Train: [ 1  2  3  5  6  7  8  9 11 13 14 15 16 17 19 20 21 23 24 25 27 29 30 31\n",
      " 32 33 34 36 37 38 41 42 43 45 46 47 48 50 51 52 53 54 56 57 58 59 60 61\n",
      " 63 64 65 66 68 69 70 71 73 74 75 76 77 78 79 80 81 82 84 85 86 87 88 89\n",
      " 91 92 93] Validation: [ 0  4 10 12 18 22 26 28 35 39 40 44 49 55 62 67 72 83 90]\n",
      "Train: [ 0  1  2  3  4  6  7  8 10 12 13 14 17 18 19 20 21 22 23 24 25 26 27 28\n",
      " 29 32 35 36 37 38 39 40 41 43 44 46 48 49 50 51 52 53 54 55 56 57 58 59\n",
      " 60 61 62 63 64 67 71 72 73 74 75 76 79 80 81 82 83 84 85 86 87 88 89 90\n",
      " 91 92 93] Validation: [ 5  9 11 15 16 30 31 33 34 42 45 47 65 66 68 69 70 77 78]\n",
      "Train: [ 0  1  2  4  5  9 10 11 12 14 15 16 18 20 21 22 23 26 28 29 30 31 32 33\n",
      " 34 35 37 39 40 41 42 43 44 45 46 47 48 49 50 51 52 54 55 57 58 59 60 61\n",
      " 62 63 64 65 66 67 68 69 70 71 72 74 75 77 78 79 81 82 83 84 85 86 88 90\n",
      " 91 92 93] Validation: [ 3  6  7  8 13 17 19 24 25 27 36 38 53 56 73 76 80 87 89]\n",
      "Train: [ 0  1  2  3  4  5  6  7  8  9 10 11 12 13 14 15 16 17 18 19 20 21 22 23\n",
      " 24 25 26 27 28 29 30 31 33 34 35 36 37 38 39 40 42 44 45 47 49 51 52 53\n",
      " 55 56 60 62 65 66 67 68 69 70 71 72 73 74 76 77 78 79 80 82 83 85 86 87\n",
      " 89 90 92] Validation: [32 41 43 46 48 50 54 57 58 59 61 63 64 75 81 84 88 91 93]\n",
      "Train: [ 0  3  4  5  6  7  8  9 10 11 12 13 15 16 17 18 19 22 24 25 26 27 28 30\n",
      " 31 32 33 34 35 36 38 39 40 41 42 43 44 45 46 47 48 49 50 53 54 55 56 57\n",
      " 58 59 61 62 63 64 65 66 67 68 69 70 72 73 75 76 77 78 80 81 83 84 87 88\n",
      " 89 90 91 93] Validation: [ 1  2 14 20 21 23 29 37 51 52 60 71 74 79 82 85 86 92]\n"
     ]
    }
   ],
   "source": [
    "# crossfold validation \n",
    "kf = KFold(n_splits=5, shuffle=True, random_state=42)\n",
    "total_X_train = []\n",
    "total_y_train = []\n",
    "total_X_val = []\n",
    "total_y_val = []\n",
    "\n",
    "for train_index, val_index in kf.split(X_train_np):\n",
    "    print(\"Train:\", train_index, \"Validation:\", val_index)\n",
    "    X_train, X_val = X_train_np[train_index], X_train_np[val_index]\n",
    "    y_train, y_val = y_train_np[train_index], y_train_np[val_index]\n",
    "    total_X_train.append(X_train)\n",
    "    total_X_val.append(X_val)\n",
    "    total_y_train.append(y_train)\n",
    "    total_y_val.append(y_val)\n",
    "    "
   ]
  },
  {
   "cell_type": "code",
   "execution_count": 15,
   "id": "2ed21382-0945-4f90-a595-bce4378e1425",
   "metadata": {},
   "outputs": [
    {
     "name": "stdout",
     "output_type": "stream",
     "text": [
      "75\n",
      "75\n",
      "75\n",
      "75\n",
      "76\n"
     ]
    }
   ],
   "source": [
    "print(len(total_X_train[0]))\n",
    "print(len(total_X_train[1]))\n",
    "print(len(total_X_train[2]))\n",
    "print(len(total_X_train[3]))\n",
    "print(len(total_X_train[4]))\n"
   ]
  },
  {
   "cell_type": "markdown",
   "id": "425943cb-e96f-47f2-b836-7652e7882be6",
   "metadata": {},
   "source": [
    "## 2.2 Preparing the model "
   ]
  },
  {
   "cell_type": "code",
   "execution_count": 16,
   "id": "738c8617-19d6-450e-9752-3adf0c2d616f",
   "metadata": {},
   "outputs": [],
   "source": [
    "from sklearn.metrics import r2_score\n",
    "import optuna\n",
    "from sklearn.ensemble import BaggingRegressor,AdaBoostRegressor,GradientBoostingRegressor\n",
    "from sklearn.neighbors import KNeighborsRegressor\n",
    "from sklearn.tree import DecisionTreeRegressor\n",
    "#import xgboost as xgb\n",
    "from sklearn.svm import SVR\n",
    "from catboost import CatBoostRegressor, Pool\n",
    "from sklearn.ensemble import RandomForestRegressor\n",
    "from sklearn.metrics import r2_score,mean_absolute_error,mean_squared_error\n",
    "import math\n",
    "import matplotlib.pyplot as plt\n",
    "import shap"
   ]
  },
  {
   "cell_type": "code",
   "execution_count": 17,
   "id": "bb65a590-ffa1-4e33-a839-a4639319bc2c",
   "metadata": {},
   "outputs": [],
   "source": [
    "def CatBoostRegressorTraining():\n",
    "#     params = {'iterations': 16937, 'learning_rate': 0.0802044556274633, 'depth': 7, 'random_seed': 397,\n",
    "#               'metric_period': 407, 'od_wait': 148}\n",
    "    \n",
    "    params = {'iterations': 21243, 'learning_rate': 0.05975976829789766, 'depth': 10, 'random_seed': 332,\n",
    "     'metric_period': 470, 'od_wait': 143}\n",
    "    \n",
    "    xgb_reg = CatBoostRegressor(**params)\n",
    "    xgb_reg.fit(X_train, y_train)\n",
    "\n",
    "    return xgb_reg"
   ]
  },
  {
   "cell_type": "code",
   "execution_count": 18,
   "id": "df5c9caa-4cf5-42c4-b75d-8686e2bb4a61",
   "metadata": {},
   "outputs": [],
   "source": [
    "# training the model with Kfold \n",
    "def training_model(model_reg, total_data_train, total_target_train):\n",
    "\n",
    "    Kfold = 5 \n",
    "    total_model = []\n",
    "    for index in range(Kfold): \n",
    "        model_reg.fit(total_data_train[index], total_target_train[index])\n",
    "        total_model.append(model_reg)\n",
    "    return total_model "
   ]
  },
  {
   "cell_type": "code",
   "execution_count": 19,
   "id": "a2017ae1-7681-401a-828a-68540a522f65",
   "metadata": {},
   "outputs": [],
   "source": [
    "def evaluate_model(trained_model, total_data_val, total_target_val):\n",
    "    result = []\n",
    "    Kfold = 5\n",
    "    for index in range(Kfold):\n",
    "        y_pred = trained_model[index].predict(total_data_val[index])\n",
    "        result.append(round(r2_score(total_target_val[index],y_pred),4))\n",
    "    return np.average(result)"
   ]
  },
  {
   "cell_type": "code",
   "execution_count": 20,
   "id": "60adc9d5-ac04-4fe9-9053-2d4f5893a070",
   "metadata": {},
   "outputs": [],
   "source": [
    "def evaluate_model2(trained_model, total_data_val, total_target_val):\n",
    "    result = []\n",
    "    Kfold = 5\n",
    "    for index in range(Kfold):\n",
    "        y_pred = trained_model[index].predict(total_data_val[index])\n",
    "        result.append(round(r2_score(total_target_val[index],y_pred),4))\n",
    "        result.append(round(mean_absolute_error(total_target_val[index],y_pred),4))\n",
    "        result.append(round(mean_squared_error(total_target_val[index],y_pred),4))\n",
    "    return np.average(result)"
   ]
  },
  {
   "cell_type": "code",
   "execution_count": 21,
   "id": "92581c2c-977e-4e54-a0b4-8bcae5207bd6",
   "metadata": {},
   "outputs": [],
   "source": [
    "def evaluate_model_test(trained_model, total_data_test, total_target_test):\n",
    "    result = []\n",
    "    Kfold = 5\n",
    "    for index in range(Kfold):\n",
    "        y_pred = trained_model[index].predict(total_data_test)\n",
    "        result.append(round(r2_score(total_target_test,y_pred),4))\n",
    "    return np.average(result)"
   ]
  },
  {
   "cell_type": "code",
   "execution_count": 22,
   "id": "4667645b-a785-41b8-8951-5219d3455652",
   "metadata": {},
   "outputs": [],
   "source": [
    "def evaluate_model_test2(trained_model, total_data_test, total_target_test):\n",
    "    result = []\n",
    "    Kfold = 5\n",
    "    for index in range(Kfold):\n",
    "        y_pred = trained_model[index].predict(total_data_test)\n",
    "        result.append(round(mean_absolute_error(total_target_test,y_pred),4))\n",
    "    return np.average(result)"
   ]
  },
  {
   "cell_type": "code",
   "execution_count": 23,
   "id": "52bb901c-32a3-4965-8ec6-7824c8772929",
   "metadata": {},
   "outputs": [],
   "source": [
    "def evaluate_model_test3(trained_model, total_data_test, total_target_test):\n",
    "    result = []\n",
    "    Kfold = 5\n",
    "    for index in range(Kfold):\n",
    "        y_pred = trained_model[index].predict(total_data_test)\n",
    "        result.append(round(mean_squared_error(total_target_test,y_pred),4))\n",
    "    return np.average(result)"
   ]
  },
  {
   "cell_type": "code",
   "execution_count": 24,
   "id": "a5e9678d-4260-43e4-b0c2-790ad354a0fe",
   "metadata": {},
   "outputs": [
    {
     "name": "stdout",
     "output_type": "stream",
     "text": [
      "0:\tlearn: 1.2211615\ttotal: 158ms\tremaining: 55m 49s\n",
      "470:\tlearn: 0.2700899\ttotal: 455ms\tremaining: 20.1s\n",
      "940:\tlearn: 0.2682084\ttotal: 786ms\tremaining: 17s\n",
      "1410:\tlearn: 0.2682044\ttotal: 1.13s\tremaining: 15.8s\n",
      "1880:\tlearn: 0.2682044\ttotal: 1.47s\tremaining: 15.2s\n",
      "2350:\tlearn: 0.2682044\ttotal: 1.8s\tremaining: 14.5s\n",
      "2820:\tlearn: 0.2682044\ttotal: 2.1s\tremaining: 13.7s\n",
      "3290:\tlearn: 0.2682044\ttotal: 2.43s\tremaining: 13.3s\n",
      "3760:\tlearn: 0.2682044\ttotal: 2.76s\tremaining: 12.8s\n",
      "4230:\tlearn: 0.2682044\ttotal: 3.09s\tremaining: 12.4s\n",
      "4700:\tlearn: 0.2682044\ttotal: 3.4s\tremaining: 12s\n",
      "5170:\tlearn: 0.2682044\ttotal: 3.73s\tremaining: 11.6s\n",
      "5640:\tlearn: 0.2682044\ttotal: 4.07s\tremaining: 11.3s\n",
      "6110:\tlearn: 0.2682044\ttotal: 4.42s\tremaining: 10.9s\n",
      "6580:\tlearn: 0.2682044\ttotal: 4.77s\tremaining: 10.6s\n",
      "7050:\tlearn: 0.2682044\ttotal: 5.12s\tremaining: 10.3s\n",
      "7520:\tlearn: 0.2682044\ttotal: 5.47s\tremaining: 9.99s\n",
      "7990:\tlearn: 0.2682044\ttotal: 5.83s\tremaining: 9.66s\n",
      "8460:\tlearn: 0.2682044\ttotal: 6.18s\tremaining: 9.33s\n",
      "8930:\tlearn: 0.2682044\ttotal: 6.53s\tremaining: 9s\n",
      "9400:\tlearn: 0.2682044\ttotal: 6.88s\tremaining: 8.66s\n",
      "9870:\tlearn: 0.2682044\ttotal: 7.23s\tremaining: 8.33s\n",
      "10340:\tlearn: 0.2682044\ttotal: 7.6s\tremaining: 8.01s\n",
      "10810:\tlearn: 0.2682044\ttotal: 7.95s\tremaining: 7.67s\n",
      "11280:\tlearn: 0.2682044\ttotal: 8.3s\tremaining: 7.33s\n",
      "11750:\tlearn: 0.2682044\ttotal: 8.65s\tremaining: 6.99s\n",
      "12220:\tlearn: 0.2682044\ttotal: 9.01s\tremaining: 6.65s\n",
      "12690:\tlearn: 0.2682044\ttotal: 9.36s\tremaining: 6.31s\n",
      "13160:\tlearn: 0.2682044\ttotal: 9.71s\tremaining: 5.96s\n",
      "13630:\tlearn: 0.2682044\ttotal: 10.1s\tremaining: 5.63s\n",
      "14100:\tlearn: 0.2682044\ttotal: 10.4s\tremaining: 5.28s\n",
      "14570:\tlearn: 0.2682044\ttotal: 10.8s\tremaining: 4.94s\n",
      "15040:\tlearn: 0.2682044\ttotal: 11.1s\tremaining: 4.59s\n",
      "15510:\tlearn: 0.2682044\ttotal: 11.5s\tremaining: 4.24s\n",
      "15980:\tlearn: 0.2682044\ttotal: 11.8s\tremaining: 3.9s\n",
      "16450:\tlearn: 0.2682044\ttotal: 12.2s\tremaining: 3.55s\n",
      "16920:\tlearn: 0.2682044\ttotal: 12.5s\tremaining: 3.2s\n",
      "17390:\tlearn: 0.2682044\ttotal: 12.9s\tremaining: 2.85s\n",
      "17860:\tlearn: 0.2682044\ttotal: 13.2s\tremaining: 2.51s\n",
      "18330:\tlearn: 0.2682044\ttotal: 13.6s\tremaining: 2.16s\n",
      "18800:\tlearn: 0.2682044\ttotal: 13.9s\tremaining: 1.81s\n",
      "19270:\tlearn: 0.2682044\ttotal: 14.3s\tremaining: 1.46s\n",
      "19740:\tlearn: 0.2682044\ttotal: 14.7s\tremaining: 1.11s\n",
      "20210:\tlearn: 0.2682044\ttotal: 15s\tremaining: 766ms\n",
      "20680:\tlearn: 0.2682044\ttotal: 15.4s\tremaining: 417ms\n",
      "21150:\tlearn: 0.2682044\ttotal: 15.7s\tremaining: 68.3ms\n",
      "21242:\tlearn: 0.2682044\ttotal: 15.8s\tremaining: 0us\n",
      "0:\tlearn: 1.0938943\ttotal: 551us\tremaining: 11.7s\n",
      "470:\tlearn: 0.2923242\ttotal: 364ms\tremaining: 16.1s\n",
      "940:\tlearn: 0.2914978\ttotal: 718ms\tremaining: 15.5s\n",
      "1410:\tlearn: 0.2914956\ttotal: 1.05s\tremaining: 14.8s\n",
      "1880:\tlearn: 0.2914956\ttotal: 1.42s\tremaining: 14.6s\n",
      "2350:\tlearn: 0.2914956\ttotal: 1.8s\tremaining: 14.5s\n",
      "2820:\tlearn: 0.2914956\ttotal: 2.2s\tremaining: 14.4s\n",
      "3290:\tlearn: 0.2914956\ttotal: 2.56s\tremaining: 14s\n",
      "3760:\tlearn: 0.2914956\ttotal: 2.92s\tremaining: 13.6s\n",
      "4230:\tlearn: 0.2914956\ttotal: 3.3s\tremaining: 13.3s\n",
      "4700:\tlearn: 0.2914956\ttotal: 3.71s\tremaining: 13s\n",
      "5170:\tlearn: 0.2914956\ttotal: 4.08s\tremaining: 12.7s\n",
      "5640:\tlearn: 0.2914956\ttotal: 4.47s\tremaining: 12.4s\n",
      "6110:\tlearn: 0.2914956\ttotal: 4.89s\tremaining: 12.1s\n",
      "6580:\tlearn: 0.2914956\ttotal: 5.3s\tremaining: 11.8s\n",
      "7050:\tlearn: 0.2914956\ttotal: 5.71s\tremaining: 11.5s\n",
      "7520:\tlearn: 0.2914956\ttotal: 6.15s\tremaining: 11.2s\n",
      "7990:\tlearn: 0.2914956\ttotal: 6.55s\tremaining: 10.9s\n",
      "8460:\tlearn: 0.2914956\ttotal: 6.98s\tremaining: 10.6s\n",
      "8930:\tlearn: 0.2914956\ttotal: 7.39s\tremaining: 10.2s\n",
      "9400:\tlearn: 0.2914956\ttotal: 7.81s\tremaining: 9.84s\n",
      "9870:\tlearn: 0.2914956\ttotal: 8.22s\tremaining: 9.47s\n",
      "10340:\tlearn: 0.2914956\ttotal: 8.64s\tremaining: 9.11s\n",
      "10810:\tlearn: 0.2914956\ttotal: 9.05s\tremaining: 8.74s\n",
      "11280:\tlearn: 0.2914956\ttotal: 9.47s\tremaining: 8.36s\n",
      "11750:\tlearn: 0.2914956\ttotal: 9.88s\tremaining: 7.98s\n",
      "12220:\tlearn: 0.2914956\ttotal: 10.3s\tremaining: 7.6s\n",
      "12690:\tlearn: 0.2914956\ttotal: 10.7s\tremaining: 7.22s\n",
      "13160:\tlearn: 0.2914956\ttotal: 11.1s\tremaining: 6.84s\n",
      "13630:\tlearn: 0.2914956\ttotal: 11.5s\tremaining: 6.45s\n",
      "14100:\tlearn: 0.2914956\ttotal: 12s\tremaining: 6.06s\n",
      "14570:\tlearn: 0.2914956\ttotal: 12.4s\tremaining: 5.67s\n",
      "15040:\tlearn: 0.2914956\ttotal: 12.8s\tremaining: 5.28s\n",
      "15510:\tlearn: 0.2914956\ttotal: 13.2s\tremaining: 4.88s\n",
      "15980:\tlearn: 0.2914956\ttotal: 13.6s\tremaining: 4.49s\n",
      "16450:\tlearn: 0.2914956\ttotal: 14.1s\tremaining: 4.11s\n",
      "16920:\tlearn: 0.2914956\ttotal: 14.5s\tremaining: 3.71s\n",
      "17390:\tlearn: 0.2914956\ttotal: 15s\tremaining: 3.31s\n",
      "17860:\tlearn: 0.2914956\ttotal: 15.4s\tremaining: 2.91s\n",
      "18330:\tlearn: 0.2914956\ttotal: 15.8s\tremaining: 2.51s\n",
      "18800:\tlearn: 0.2914956\ttotal: 16.2s\tremaining: 2.11s\n",
      "19270:\tlearn: 0.2914956\ttotal: 16.7s\tremaining: 1.7s\n",
      "19740:\tlearn: 0.2914956\ttotal: 17.1s\tremaining: 1.3s\n",
      "20210:\tlearn: 0.2914956\ttotal: 17.5s\tremaining: 894ms\n",
      "20680:\tlearn: 0.2914956\ttotal: 17.9s\tremaining: 487ms\n",
      "21150:\tlearn: 0.2914956\ttotal: 18.4s\tremaining: 79.9ms\n",
      "21242:\tlearn: 0.2914956\ttotal: 18.4s\tremaining: 0us\n",
      "0:\tlearn: 1.1438241\ttotal: 847us\tremaining: 18s\n",
      "470:\tlearn: 0.3428338\ttotal: 398ms\tremaining: 17.6s\n",
      "940:\tlearn: 0.3424105\ttotal: 777ms\tremaining: 16.8s\n",
      "1410:\tlearn: 0.3424098\ttotal: 1.13s\tremaining: 15.9s\n",
      "1880:\tlearn: 0.3424098\ttotal: 1.47s\tremaining: 15.1s\n",
      "2350:\tlearn: 0.3424098\ttotal: 1.84s\tremaining: 14.8s\n",
      "2820:\tlearn: 0.3424098\ttotal: 2.23s\tremaining: 14.6s\n",
      "3290:\tlearn: 0.3424098\ttotal: 2.62s\tremaining: 14.3s\n",
      "3760:\tlearn: 0.3424098\ttotal: 3s\tremaining: 13.9s\n",
      "4230:\tlearn: 0.3424098\ttotal: 3.4s\tremaining: 13.7s\n",
      "4700:\tlearn: 0.3424098\ttotal: 3.77s\tremaining: 13.3s\n",
      "5170:\tlearn: 0.3424098\ttotal: 4.17s\tremaining: 13s\n",
      "5640:\tlearn: 0.3424098\ttotal: 4.58s\tremaining: 12.7s\n",
      "6110:\tlearn: 0.3424098\ttotal: 4.99s\tremaining: 12.4s\n",
      "6580:\tlearn: 0.3424098\ttotal: 5.41s\tremaining: 12s\n",
      "7050:\tlearn: 0.3424098\ttotal: 5.85s\tremaining: 11.8s\n",
      "7520:\tlearn: 0.3424098\ttotal: 6.29s\tremaining: 11.5s\n",
      "7990:\tlearn: 0.3424098\ttotal: 6.72s\tremaining: 11.2s\n",
      "8460:\tlearn: 0.3424098\ttotal: 7.16s\tremaining: 10.8s\n",
      "8930:\tlearn: 0.3424098\ttotal: 7.59s\tremaining: 10.5s\n",
      "9400:\tlearn: 0.3424098\ttotal: 8.02s\tremaining: 10.1s\n",
      "9870:\tlearn: 0.3424098\ttotal: 8.45s\tremaining: 9.73s\n",
      "10340:\tlearn: 0.3424098\ttotal: 8.88s\tremaining: 9.36s\n",
      "10810:\tlearn: 0.3424098\ttotal: 9.31s\tremaining: 8.99s\n",
      "11280:\tlearn: 0.3424098\ttotal: 9.75s\tremaining: 8.61s\n",
      "11750:\tlearn: 0.3424098\ttotal: 10.2s\tremaining: 8.22s\n",
      "12220:\tlearn: 0.3424098\ttotal: 10.6s\tremaining: 7.83s\n",
      "12690:\tlearn: 0.3424098\ttotal: 11s\tremaining: 7.44s\n",
      "13160:\tlearn: 0.3424098\ttotal: 11.5s\tremaining: 7.05s\n",
      "13630:\tlearn: 0.3424098\ttotal: 11.9s\tremaining: 6.65s\n",
      "14100:\tlearn: 0.3424098\ttotal: 12.3s\tremaining: 6.25s\n",
      "14570:\tlearn: 0.3424098\ttotal: 12.8s\tremaining: 5.84s\n",
      "15040:\tlearn: 0.3424098\ttotal: 13.2s\tremaining: 5.44s\n",
      "15510:\tlearn: 0.3424098\ttotal: 13.6s\tremaining: 5.03s\n",
      "15980:\tlearn: 0.3424098\ttotal: 14s\tremaining: 4.62s\n",
      "16450:\tlearn: 0.3424098\ttotal: 14.5s\tremaining: 4.22s\n",
      "16920:\tlearn: 0.3424098\ttotal: 14.9s\tremaining: 3.81s\n",
      "17390:\tlearn: 0.3424098\ttotal: 15.3s\tremaining: 3.39s\n",
      "17860:\tlearn: 0.3424098\ttotal: 15.7s\tremaining: 2.98s\n",
      "18330:\tlearn: 0.3424098\ttotal: 16.2s\tremaining: 2.57s\n",
      "18800:\tlearn: 0.3424098\ttotal: 16.6s\tremaining: 2.16s\n",
      "19270:\tlearn: 0.3424098\ttotal: 17s\tremaining: 1.74s\n",
      "19740:\tlearn: 0.3424098\ttotal: 17.5s\tremaining: 1.33s\n",
      "20210:\tlearn: 0.3424098\ttotal: 17.9s\tremaining: 914ms\n",
      "20680:\tlearn: 0.3424098\ttotal: 18.3s\tremaining: 498ms\n",
      "21150:\tlearn: 0.3424098\ttotal: 18.7s\tremaining: 81.5ms\n",
      "21242:\tlearn: 0.3424098\ttotal: 18.8s\tremaining: 0us\n",
      "0:\tlearn: 1.2486788\ttotal: 774us\tremaining: 16.4s\n",
      "470:\tlearn: 0.2818805\ttotal: 382ms\tremaining: 16.8s\n",
      "940:\tlearn: 0.2806394\ttotal: 784ms\tremaining: 16.9s\n",
      "1410:\tlearn: 0.2806377\ttotal: 1.14s\tremaining: 16s\n",
      "1880:\tlearn: 0.2806377\ttotal: 1.53s\tremaining: 15.8s\n",
      "2350:\tlearn: 0.2806377\ttotal: 1.95s\tremaining: 15.7s\n",
      "2820:\tlearn: 0.2806377\ttotal: 2.34s\tremaining: 15.3s\n",
      "3290:\tlearn: 0.2806377\ttotal: 2.71s\tremaining: 14.8s\n",
      "3760:\tlearn: 0.2806377\ttotal: 3.07s\tremaining: 14.3s\n",
      "4230:\tlearn: 0.2806377\ttotal: 3.45s\tremaining: 13.9s\n",
      "4700:\tlearn: 0.2806377\ttotal: 3.82s\tremaining: 13.4s\n",
      "5170:\tlearn: 0.2806377\ttotal: 4.22s\tremaining: 13.1s\n",
      "5640:\tlearn: 0.2806377\ttotal: 4.49s\tremaining: 12.4s\n",
      "6110:\tlearn: 0.2806377\ttotal: 4.66s\tremaining: 11.5s\n",
      "6580:\tlearn: 0.2806377\ttotal: 4.83s\tremaining: 10.8s\n",
      "7050:\tlearn: 0.2806377\ttotal: 5s\tremaining: 10.1s\n",
      "7520:\tlearn: 0.2806377\ttotal: 5.17s\tremaining: 9.43s\n",
      "7990:\tlearn: 0.2806377\ttotal: 5.34s\tremaining: 8.85s\n",
      "8460:\tlearn: 0.2806377\ttotal: 5.5s\tremaining: 8.31s\n",
      "8930:\tlearn: 0.2806377\ttotal: 5.67s\tremaining: 7.82s\n",
      "9400:\tlearn: 0.2806377\ttotal: 5.83s\tremaining: 7.35s\n",
      "9870:\tlearn: 0.2806377\ttotal: 6s\tremaining: 6.91s\n",
      "10340:\tlearn: 0.2806377\ttotal: 6.16s\tremaining: 6.5s\n",
      "10810:\tlearn: 0.2806377\ttotal: 6.33s\tremaining: 6.11s\n",
      "11280:\tlearn: 0.2806377\ttotal: 6.49s\tremaining: 5.73s\n",
      "11750:\tlearn: 0.2806377\ttotal: 6.66s\tremaining: 5.38s\n",
      "12220:\tlearn: 0.2806377\ttotal: 6.84s\tremaining: 5.05s\n",
      "12690:\tlearn: 0.2806377\ttotal: 7.01s\tremaining: 4.72s\n",
      "13160:\tlearn: 0.2806377\ttotal: 7.17s\tremaining: 4.41s\n",
      "13630:\tlearn: 0.2806377\ttotal: 7.34s\tremaining: 4.1s\n",
      "14100:\tlearn: 0.2806377\ttotal: 7.5s\tremaining: 3.8s\n",
      "14570:\tlearn: 0.2806377\ttotal: 7.67s\tremaining: 3.51s\n",
      "15040:\tlearn: 0.2806377\ttotal: 7.83s\tremaining: 3.23s\n",
      "15510:\tlearn: 0.2806377\ttotal: 8s\tremaining: 2.96s\n",
      "15980:\tlearn: 0.2806377\ttotal: 8.16s\tremaining: 2.69s\n",
      "16450:\tlearn: 0.2806377\ttotal: 8.33s\tremaining: 2.43s\n",
      "16920:\tlearn: 0.2806377\ttotal: 8.5s\tremaining: 2.17s\n",
      "17390:\tlearn: 0.2806377\ttotal: 8.66s\tremaining: 1.92s\n",
      "17860:\tlearn: 0.2806377\ttotal: 8.82s\tremaining: 1.67s\n",
      "18330:\tlearn: 0.2806377\ttotal: 8.99s\tremaining: 1.43s\n",
      "18800:\tlearn: 0.2806377\ttotal: 9.15s\tremaining: 1.19s\n",
      "19270:\tlearn: 0.2806377\ttotal: 9.32s\tremaining: 953ms\n",
      "19740:\tlearn: 0.2806377\ttotal: 9.48s\tremaining: 721ms\n",
      "20210:\tlearn: 0.2806377\ttotal: 9.64s\tremaining: 492ms\n",
      "20680:\tlearn: 0.2806377\ttotal: 9.81s\tremaining: 266ms\n",
      "21150:\tlearn: 0.2806377\ttotal: 9.97s\tremaining: 43.4ms\n",
      "21242:\tlearn: 0.2806377\ttotal: 10s\tremaining: 0us\n",
      "0:\tlearn: 1.1077917\ttotal: 1.26ms\tremaining: 26.8s\n",
      "470:\tlearn: 0.2852500\ttotal: 354ms\tremaining: 15.6s\n",
      "940:\tlearn: 0.2838422\ttotal: 758ms\tremaining: 16.4s\n",
      "1410:\tlearn: 0.2838389\ttotal: 1.11s\tremaining: 15.6s\n",
      "1880:\tlearn: 0.2838388\ttotal: 1.54s\tremaining: 15.8s\n",
      "2350:\tlearn: 0.2838388\ttotal: 1.97s\tremaining: 15.8s\n",
      "2820:\tlearn: 0.2838388\ttotal: 2.38s\tremaining: 15.5s\n",
      "3290:\tlearn: 0.2838388\ttotal: 2.8s\tremaining: 15.3s\n",
      "3760:\tlearn: 0.2838388\ttotal: 3.2s\tremaining: 14.9s\n",
      "4230:\tlearn: 0.2838388\ttotal: 3.61s\tremaining: 14.5s\n",
      "4700:\tlearn: 0.2838388\ttotal: 4.02s\tremaining: 14.1s\n",
      "5170:\tlearn: 0.2838388\ttotal: 4.41s\tremaining: 13.7s\n",
      "5640:\tlearn: 0.2838388\ttotal: 4.86s\tremaining: 13.4s\n",
      "6110:\tlearn: 0.2838388\ttotal: 5.31s\tremaining: 13.2s\n",
      "6580:\tlearn: 0.2838388\ttotal: 5.77s\tremaining: 12.9s\n",
      "7050:\tlearn: 0.2838388\ttotal: 6.22s\tremaining: 12.5s\n",
      "7520:\tlearn: 0.2838388\ttotal: 6.69s\tremaining: 12.2s\n",
      "7990:\tlearn: 0.2838388\ttotal: 7.15s\tremaining: 11.9s\n",
      "8460:\tlearn: 0.2838388\ttotal: 7.6s\tremaining: 11.5s\n",
      "8930:\tlearn: 0.2838388\ttotal: 8.05s\tremaining: 11.1s\n",
      "9400:\tlearn: 0.2838388\ttotal: 8.5s\tremaining: 10.7s\n",
      "9870:\tlearn: 0.2838388\ttotal: 8.96s\tremaining: 10.3s\n",
      "10340:\tlearn: 0.2838388\ttotal: 9.41s\tremaining: 9.93s\n",
      "10810:\tlearn: 0.2838388\ttotal: 9.87s\tremaining: 9.52s\n",
      "11280:\tlearn: 0.2838388\ttotal: 10.3s\tremaining: 9.12s\n",
      "11750:\tlearn: 0.2838388\ttotal: 10.8s\tremaining: 8.7s\n",
      "12220:\tlearn: 0.2838388\ttotal: 11.2s\tremaining: 8.29s\n",
      "12690:\tlearn: 0.2838388\ttotal: 11.7s\tremaining: 7.88s\n",
      "13160:\tlearn: 0.2838388\ttotal: 12.1s\tremaining: 7.46s\n",
      "13630:\tlearn: 0.2838388\ttotal: 12.6s\tremaining: 7.04s\n",
      "14100:\tlearn: 0.2838388\ttotal: 13.1s\tremaining: 6.62s\n",
      "14570:\tlearn: 0.2838388\ttotal: 13.5s\tremaining: 6.19s\n",
      "15040:\tlearn: 0.2838388\ttotal: 14s\tremaining: 5.77s\n",
      "15510:\tlearn: 0.2838388\ttotal: 14.4s\tremaining: 5.34s\n",
      "15980:\tlearn: 0.2838388\ttotal: 14.9s\tremaining: 4.91s\n",
      "16450:\tlearn: 0.2838388\ttotal: 15.4s\tremaining: 4.48s\n",
      "16920:\tlearn: 0.2838388\ttotal: 15.8s\tremaining: 4.04s\n",
      "17390:\tlearn: 0.2838388\ttotal: 16.3s\tremaining: 3.61s\n",
      "17860:\tlearn: 0.2838388\ttotal: 16.7s\tremaining: 3.17s\n",
      "18330:\tlearn: 0.2838388\ttotal: 17.2s\tremaining: 2.73s\n",
      "18800:\tlearn: 0.2838388\ttotal: 17.7s\tremaining: 2.3s\n",
      "19270:\tlearn: 0.2838388\ttotal: 18.1s\tremaining: 1.86s\n",
      "19740:\tlearn: 0.2838388\ttotal: 18.6s\tremaining: 1.42s\n",
      "20210:\tlearn: 0.2838388\ttotal: 19.1s\tremaining: 973ms\n",
      "20680:\tlearn: 0.2838388\ttotal: 19.5s\tremaining: 531ms\n",
      "21150:\tlearn: 0.2838388\ttotal: 20s\tremaining: 86.9ms\n",
      "21242:\tlearn: 0.2838388\ttotal: 20.1s\tremaining: 0us\n"
     ]
    }
   ],
   "source": [
    "params = {'iterations': 21243, 'learning_rate': 0.05975976829789766, 'depth': 10, 'random_seed': 332,\n",
    "     'metric_period': 470, 'od_wait': 143}\n",
    "model_reg = CatBoostRegressor(**params)\n",
    "trained_model = training_model(model_reg, total_X_train, total_y_train)"
   ]
  },
  {
   "cell_type": "code",
   "execution_count": 25,
   "id": "3e2a9ece-697e-4a21-9107-c3ecb622ea25",
   "metadata": {},
   "outputs": [
    {
     "data": {
      "text/plain": [
       "np.float64(0.8454200000000001)"
      ]
     },
     "execution_count": 25,
     "metadata": {},
     "output_type": "execute_result"
    }
   ],
   "source": [
    "R2 = evaluate_model(trained_model, total_X_val, total_y_val)\n",
    "R2"
   ]
  },
  {
   "cell_type": "code",
   "execution_count": 26,
   "id": "53e27ae3-d614-4d39-83d3-37ffa311f87e",
   "metadata": {},
   "outputs": [
    {
     "data": {
      "text/plain": [
       "np.float64(0.2265)"
      ]
     },
     "execution_count": 26,
     "metadata": {},
     "output_type": "execute_result"
    }
   ],
   "source": [
    "R2 = evaluate_model_test(trained_model, X_test_np, y_test_np)\n",
    "R2"
   ]
  },
  {
   "cell_type": "code",
   "execution_count": 27,
   "id": "9410ae66-1054-4df2-9fb0-588a3df2f859",
   "metadata": {},
   "outputs": [
    {
     "data": {
      "text/plain": [
       "np.float64(0.3792)"
      ]
     },
     "execution_count": 27,
     "metadata": {},
     "output_type": "execute_result"
    }
   ],
   "source": [
    "MAE = evaluate_model_test2(trained_model, X_test_np, y_test_np)\n",
    "MAE"
   ]
  },
  {
   "cell_type": "code",
   "execution_count": 28,
   "id": "a9d33114-0eb7-4d19-abe1-3ae7c0b02aa7",
   "metadata": {},
   "outputs": [
    {
     "data": {
      "text/plain": [
       "np.float64(0.21949999999999997)"
      ]
     },
     "execution_count": 28,
     "metadata": {},
     "output_type": "execute_result"
    }
   ],
   "source": [
    "MSE = evaluate_model_test3(trained_model, X_test_np, y_test_np)\n",
    "MSE"
   ]
  },
  {
   "cell_type": "markdown",
   "id": "fdd34781-b6cd-47e2-bc04-1d618446ae9a",
   "metadata": {},
   "source": [
    "## 2.3 optimizing and training the model"
   ]
  },
  {
   "cell_type": "markdown",
   "id": "08a72788-0b63-4f1a-8f2e-12c84785fa19",
   "metadata": {},
   "source": [
    "## ADABOOST"
   ]
  },
  {
   "cell_type": "code",
   "execution_count": 29,
   "id": "ff80afa0-0265-4e43-afc2-1b4cf8e39549",
   "metadata": {},
   "outputs": [],
   "source": [
    "params = {'n_estimators': 28, 'learning_rate': 0.02437865813830957, 'random_state': 97}\n",
    "model_reg = AdaBoostRegressor(**params)\n",
    "trained_model = training_model(model_reg, total_X_train, total_y_train)"
   ]
  },
  {
   "cell_type": "code",
   "execution_count": 30,
   "id": "c39c2400-a07a-4344-87a0-e03a2ec12961",
   "metadata": {},
   "outputs": [
    {
     "data": {
      "text/plain": [
       "np.float64(0.42564)"
      ]
     },
     "execution_count": 30,
     "metadata": {},
     "output_type": "execute_result"
    }
   ],
   "source": [
    "R2 = evaluate_model(trained_model, total_X_val, total_y_val)\n",
    "R2"
   ]
  },
  {
   "cell_type": "code",
   "execution_count": 31,
   "id": "32eb1b70-56ea-4289-b259-0d330081fe2a",
   "metadata": {},
   "outputs": [
    {
     "data": {
      "text/plain": [
       "np.float64(0.0388)"
      ]
     },
     "execution_count": 31,
     "metadata": {},
     "output_type": "execute_result"
    }
   ],
   "source": [
    "R2 = evaluate_model_test(trained_model, X_test_np, y_test_np)\n",
    "R2"
   ]
  },
  {
   "cell_type": "code",
   "execution_count": 32,
   "id": "0ba9db9f-1435-4db3-aea0-e2efbf9d2d01",
   "metadata": {},
   "outputs": [
    {
     "data": {
      "text/plain": [
       "np.float64(0.4234)"
      ]
     },
     "execution_count": 32,
     "metadata": {},
     "output_type": "execute_result"
    }
   ],
   "source": [
    "MAE = evaluate_model_test2(trained_model, X_test_np, y_test_np)\n",
    "MAE"
   ]
  },
  {
   "cell_type": "code",
   "execution_count": 33,
   "id": "6e4a10f7-f714-4b2f-b047-393b77b48f88",
   "metadata": {},
   "outputs": [
    {
     "data": {
      "text/plain": [
       "np.float64(0.2728)"
      ]
     },
     "execution_count": 33,
     "metadata": {},
     "output_type": "execute_result"
    }
   ],
   "source": [
    "MSE = evaluate_model_test3(trained_model, X_test_np, y_test_np)\n",
    "MSE"
   ]
  },
  {
   "cell_type": "markdown",
   "id": "651a9f80-5a01-4b20-bb8b-3942e97cf539",
   "metadata": {},
   "source": [
    "## KNeighborsRegressor"
   ]
  },
  {
   "cell_type": "code",
   "execution_count": 34,
   "id": "f64e2420-8ef9-483c-82a6-fafd538cb4a5",
   "metadata": {},
   "outputs": [],
   "source": [
    "params = {'n_neighbors': 13, 'leaf_size': 31, 'p': 2, 'n_jobs': 8}\n",
    "model_reg = KNeighborsRegressor(**params)\n",
    "trained_model = training_model(model_reg, total_X_train, total_y_train)"
   ]
  },
  {
   "cell_type": "code",
   "execution_count": 35,
   "id": "84cbd48b-15a7-40a2-980a-49581f2c612d",
   "metadata": {},
   "outputs": [
    {
     "data": {
      "text/plain": [
       "np.float64(0.23066)"
      ]
     },
     "execution_count": 35,
     "metadata": {},
     "output_type": "execute_result"
    }
   ],
   "source": [
    "R2 = evaluate_model(trained_model, total_X_val, total_y_val)\n",
    "R2"
   ]
  },
  {
   "cell_type": "code",
   "execution_count": 36,
   "id": "72ed7eed-55fc-4e46-a229-0976d22e9fb2",
   "metadata": {},
   "outputs": [
    {
     "data": {
      "text/plain": [
       "np.float64(0.1396)"
      ]
     },
     "execution_count": 36,
     "metadata": {},
     "output_type": "execute_result"
    }
   ],
   "source": [
    "R2 = evaluate_model_test(trained_model, X_test_np, y_test_np)\n",
    "R2"
   ]
  },
  {
   "cell_type": "code",
   "execution_count": 37,
   "id": "9ea13694-b17f-4a18-a90b-b6cafeca1879",
   "metadata": {},
   "outputs": [
    {
     "data": {
      "text/plain": [
       "np.float64(0.3931)"
      ]
     },
     "execution_count": 37,
     "metadata": {},
     "output_type": "execute_result"
    }
   ],
   "source": [
    "MAE = evaluate_model_test2(trained_model, X_test_np, y_test_np)\n",
    "MAE"
   ]
  },
  {
   "cell_type": "code",
   "execution_count": 38,
   "id": "7a59f6e9-d3cb-4642-af68-2fd2df076f87",
   "metadata": {},
   "outputs": [
    {
     "data": {
      "text/plain": [
       "np.float64(0.24420000000000003)"
      ]
     },
     "execution_count": 38,
     "metadata": {},
     "output_type": "execute_result"
    }
   ],
   "source": [
    "MSE = evaluate_model_test3(trained_model, X_test_np, y_test_np)\n",
    "MSE"
   ]
  },
  {
   "cell_type": "markdown",
   "id": "97b42c1f-62d9-40ff-b2ba-9f519cad5e77",
   "metadata": {},
   "source": [
    "## RandomForestRegressor"
   ]
  },
  {
   "cell_type": "code",
   "execution_count": 39,
   "id": "3e9ee324-f510-4a38-9033-295b96865952",
   "metadata": {},
   "outputs": [],
   "source": [
    "params = {'criterion': 'squared_error', 'n_estimators': 89, 'min_samples_leaf': 0.0477528566476102,\n",
    "              'min_samples_split': 0.3493938886646444, 'min_weight_fraction_leaf': 0.07364614448551399,\n",
    "              'max_depth': 11, 'n_jobs': 2,'ccp_alpha': 0.6192017360171039}\n",
    "model_reg = RandomForestRegressor(**params)\n",
    "trained_model = training_model(model_reg, total_X_train, total_y_train)"
   ]
  },
  {
   "cell_type": "code",
   "execution_count": 40,
   "id": "2075a70c-28f4-4c8f-b3d8-2c574c59f434",
   "metadata": {},
   "outputs": [
    {
     "data": {
      "text/plain": [
       "np.float64(0.051080000000000014)"
      ]
     },
     "execution_count": 40,
     "metadata": {},
     "output_type": "execute_result"
    }
   ],
   "source": [
    "R2 = evaluate_model(trained_model, total_X_val, total_y_val)\n",
    "R2"
   ]
  },
  {
   "cell_type": "code",
   "execution_count": 41,
   "id": "85105ecc-fd80-427c-8936-cab2add5585e",
   "metadata": {},
   "outputs": [
    {
     "data": {
      "text/plain": [
       "np.float64(0.0413)"
      ]
     },
     "execution_count": 41,
     "metadata": {},
     "output_type": "execute_result"
    }
   ],
   "source": [
    "R2 = evaluate_model_test(trained_model, X_test_np, y_test_np)\n",
    "R2"
   ]
  },
  {
   "cell_type": "code",
   "execution_count": 42,
   "id": "d83199be-9172-4163-b4e9-c265d4a16e69",
   "metadata": {},
   "outputs": [
    {
     "data": {
      "text/plain": [
       "np.float64(0.45010000000000006)"
      ]
     },
     "execution_count": 42,
     "metadata": {},
     "output_type": "execute_result"
    }
   ],
   "source": [
    "MAE = evaluate_model_test2(trained_model, X_test_np, y_test_np)\n",
    "MAE"
   ]
  },
  {
   "cell_type": "code",
   "execution_count": 43,
   "id": "3deac1f8-a3f0-4523-9b8c-e59effe1b54c",
   "metadata": {},
   "outputs": [
    {
     "data": {
      "text/plain": [
       "np.float64(0.2721)"
      ]
     },
     "execution_count": 43,
     "metadata": {},
     "output_type": "execute_result"
    }
   ],
   "source": [
    "MSE = evaluate_model_test3(trained_model, X_test_np, y_test_np)\n",
    "MSE"
   ]
  },
  {
   "cell_type": "markdown",
   "id": "6e9583f7-c994-4e10-a07f-cedc07df5d8c",
   "metadata": {},
   "source": [
    "## SupportVectorRegression"
   ]
  },
  {
   "cell_type": "code",
   "execution_count": 44,
   "id": "8008bdef-878c-4cf4-9ef9-749978e38550",
   "metadata": {},
   "outputs": [
    {
     "name": "stderr",
     "output_type": "stream",
     "text": [
      "C:\\Users\\USER\\anaconda3\\envs\\myenv\\lib\\site-packages\\sklearn\\svm\\_base.py:305: ConvergenceWarning: Solver terminated early (max_iter=5).  Consider pre-processing your data with StandardScaler or MinMaxScaler.\n",
      "  warnings.warn(\n",
      "C:\\Users\\USER\\anaconda3\\envs\\myenv\\lib\\site-packages\\sklearn\\svm\\_base.py:305: ConvergenceWarning: Solver terminated early (max_iter=5).  Consider pre-processing your data with StandardScaler or MinMaxScaler.\n",
      "  warnings.warn(\n",
      "C:\\Users\\USER\\anaconda3\\envs\\myenv\\lib\\site-packages\\sklearn\\svm\\_base.py:305: ConvergenceWarning: Solver terminated early (max_iter=5).  Consider pre-processing your data with StandardScaler or MinMaxScaler.\n",
      "  warnings.warn(\n",
      "C:\\Users\\USER\\anaconda3\\envs\\myenv\\lib\\site-packages\\sklearn\\svm\\_base.py:305: ConvergenceWarning: Solver terminated early (max_iter=5).  Consider pre-processing your data with StandardScaler or MinMaxScaler.\n",
      "  warnings.warn(\n",
      "C:\\Users\\USER\\anaconda3\\envs\\myenv\\lib\\site-packages\\sklearn\\svm\\_base.py:305: ConvergenceWarning: Solver terminated early (max_iter=5).  Consider pre-processing your data with StandardScaler or MinMaxScaler.\n",
      "  warnings.warn(\n"
     ]
    }
   ],
   "source": [
    "params = {'coef0': 9.775132889897574, 'tol': 0.006493993396391401, 'epsilon': 0.10002960976094372,\n",
    "              'C': 9.885891357520826, 'degree': 4, 'max_iter': 5,'cache_size': 190}\n",
    "model_reg = SVR(**params)\n",
    "trained_model = training_model(model_reg, total_X_train, total_y_train)"
   ]
  },
  {
   "cell_type": "code",
   "execution_count": 45,
   "id": "e0708688-f61c-4662-8699-bed43b1270be",
   "metadata": {},
   "outputs": [
    {
     "data": {
      "text/plain": [
       "np.float64(-2.4722200000000005)"
      ]
     },
     "execution_count": 45,
     "metadata": {},
     "output_type": "execute_result"
    }
   ],
   "source": [
    "R2 = evaluate_model(trained_model, total_X_val, total_y_val)\n",
    "R2"
   ]
  },
  {
   "cell_type": "code",
   "execution_count": 46,
   "id": "44cc8b52-41a3-4c29-b5da-de4b1c1c1a3f",
   "metadata": {},
   "outputs": [
    {
     "data": {
      "text/plain": [
       "np.float64(-13.883599999999998)"
      ]
     },
     "execution_count": 46,
     "metadata": {},
     "output_type": "execute_result"
    }
   ],
   "source": [
    "R2 = evaluate_model_test(trained_model, X_test_np, y_test_np)\n",
    "R2"
   ]
  },
  {
   "cell_type": "code",
   "execution_count": 47,
   "id": "80e64e06-bed3-4428-8a5e-bb73f027d8cc",
   "metadata": {},
   "outputs": [
    {
     "data": {
      "text/plain": [
       "np.float64(1.8806)"
      ]
     },
     "execution_count": 47,
     "metadata": {},
     "output_type": "execute_result"
    }
   ],
   "source": [
    "MAE = evaluate_model_test2(trained_model, X_test_np, y_test_np)\n",
    "MAE"
   ]
  },
  {
   "cell_type": "code",
   "execution_count": 48,
   "id": "6ec4187e-5c1c-4ce7-a1eb-af3ea3c70847",
   "metadata": {},
   "outputs": [
    {
     "data": {
      "text/plain": [
       "np.float64(4.2242)"
      ]
     },
     "execution_count": 48,
     "metadata": {},
     "output_type": "execute_result"
    }
   ],
   "source": [
    "MSE = evaluate_model_test3(trained_model, X_test_np, y_test_np)\n",
    "MSE"
   ]
  },
  {
   "cell_type": "markdown",
   "id": "bb14a03f-beb1-456c-84b5-c23295d1b2cc",
   "metadata": {},
   "source": [
    "## GradientBoostingRegressor"
   ]
  },
  {
   "cell_type": "code",
   "execution_count": 49,
   "id": "bf08e089-892f-4d12-82e3-49de2c47466f",
   "metadata": {},
   "outputs": [],
   "source": [
    "params = {'learning_rate': 0.006299158193687641, 'alpha': 0.5373917219469443, 'loss': 'quantile',\n",
    "              'criterion': 'friedman_mse', 'n_estimators': 489, 'min_samples_leaf': 0.15692793301439362,\n",
    "              'min_samples_split': 0.1432950302525493, 'min_weight_fraction_leaf': 0.15218461265640065, \n",
    "              'max_depth': 36, 'min_impurity_decrease': 0.03560036254060231}\n",
    "model_reg = GradientBoostingRegressor(**params)\n",
    "trained_model = training_model(model_reg, total_X_train, total_y_train)"
   ]
  },
  {
   "cell_type": "code",
   "execution_count": 50,
   "id": "71e6d1be-5120-44d9-a7ab-4079b379e0b3",
   "metadata": {},
   "outputs": [
    {
     "data": {
      "text/plain": [
       "np.float64(0.34784)"
      ]
     },
     "execution_count": 50,
     "metadata": {},
     "output_type": "execute_result"
    }
   ],
   "source": [
    "R2 = evaluate_model(trained_model, total_X_val, total_y_val)\n",
    "R2"
   ]
  },
  {
   "cell_type": "code",
   "execution_count": 51,
   "id": "623c5c97-9439-4360-86db-518a4fcc7a37",
   "metadata": {},
   "outputs": [
    {
     "data": {
      "text/plain": [
       "np.float64(0.3786)"
      ]
     },
     "execution_count": 51,
     "metadata": {},
     "output_type": "execute_result"
    }
   ],
   "source": [
    "R2 = evaluate_model_test(trained_model, X_test_np, y_test_np)\n",
    "R2"
   ]
  },
  {
   "cell_type": "code",
   "execution_count": 52,
   "id": "764db58e-5b2f-476e-b70b-48a3383d5ffa",
   "metadata": {},
   "outputs": [
    {
     "data": {
      "text/plain": [
       "np.float64(0.328)"
      ]
     },
     "execution_count": 52,
     "metadata": {},
     "output_type": "execute_result"
    }
   ],
   "source": [
    "MAE = evaluate_model_test2(trained_model, X_test_np, y_test_np)\n",
    "MAE"
   ]
  },
  {
   "cell_type": "code",
   "execution_count": 53,
   "id": "ab8559d1-4527-428a-a99f-63f660322c39",
   "metadata": {},
   "outputs": [
    {
     "data": {
      "text/plain": [
       "np.float64(0.1764)"
      ]
     },
     "execution_count": 53,
     "metadata": {},
     "output_type": "execute_result"
    }
   ],
   "source": [
    "MSE = evaluate_model_test3(trained_model, X_test_np, y_test_np)\n",
    "MSE"
   ]
  },
  {
   "cell_type": "markdown",
   "id": "0b58bcaa-77d9-439e-870d-d28d53548e0f",
   "metadata": {},
   "source": [
    "## 2.5 OPTUNA\n"
   ]
  },
  {
   "cell_type": "code",
   "execution_count": 55,
   "id": "cf7e4e73-67f1-4561-a72c-97de7686410d",
   "metadata": {},
   "outputs": [],
   "source": [
    "#import tensorflow as tf\n",
    "#from tensorflow import keras"
   ]
  },
  {
   "cell_type": "code",
   "execution_count": 59,
   "id": "863440da",
   "metadata": {},
   "outputs": [],
   "source": [
    "#print(\"Num GPUs Available: \", len(tf.config.experimental.list_physical_devices('GPU')))"
   ]
  },
  {
   "cell_type": "code",
   "execution_count": 58,
   "id": "b56615b5",
   "metadata": {},
   "outputs": [],
   "source": [
    "def objectiveAdaBoostRegressor(trial):\n",
    "\n",
    "    n_estimators = trial.suggest_int('n_estimators', 1,50)\n",
    "    learning_rate=trail.suggest_float(\"learning_rate\", 1e-3, 1e-1,log=True)\n",
    "    random_state= trail.suggest_int('random_state',1,100)\n",
    "    \n",
    "    model = AdaBoostRegressor(n_estimators=n_estimators,\n",
    "    learning_rate=learning_rate,\n",
    "    random_state=random_state)\n",
    "\n",
    "    score = cross_val_score(model, X, y, n_jobs=-1, cv=5, scoring='neg_mean_squared_error').mean()"
   ]
  },
  {
   "cell_type": "code",
   "execution_count": 60,
   "id": "e2d689d1",
   "metadata": {},
   "outputs": [],
   "source": [
    "def bossting_objectiveAdaBoostRegressor(trail):\n",
    "    result=[]\n",
    "    n_estimators = trail.suggest_int('n_estimators',1,50)\n",
    "    learning_rate=trail.suggest_float(\"learning_rate\", 1e-3, 1e-1,log=True)\n",
    "    random_state= trail.suggest_int('random_state',1,100)\n",
    "\n",
    "    number_of_splits=trail.suggest_int('number_of_splits',4,7)\n",
    "    k_fold=KFold(n_splits=number_of_splits)\n",
    "    params={x:y for (x,y) in trail.params.items() if x!='number_of_splits'}\n",
    "    for tr, tst in k_fold.split(train,label):\n",
    "        reg = AdaBoostRegressor(**params)\n",
    "        #X_train, X_test, y_train, y_test = train[tr],train[tst],label[tr],label[tst]\n",
    "        reg.fit(X_train_np, y_train_np)\n",
    "        result.append(round(r2_score(y_test_np,reg.predict(X_test_np)),4))\n",
    "            \n",
    "    return np.average(result)"
   ]
  },
  {
   "cell_type": "code",
   "execution_count": 61,
   "id": "45b68a8e",
   "metadata": {},
   "outputs": [],
   "source": [
    "#study = optuna.create_study(direction=\"maximize\")"
   ]
  },
  {
   "cell_type": "code",
   "execution_count": 62,
   "id": "68f9f750",
   "metadata": {},
   "outputs": [],
   "source": [
    "#study.optimize(bossting_objectiveAdaBoostRegressor, n_trials=1000)"
   ]
  },
  {
   "cell_type": "markdown",
   "id": "73f4cbd5-012a-4bdb-adde-bc9ecce2b465",
   "metadata": {},
   "source": [
    "## 2.4 Performance of the model "
   ]
  }
 ],
 "metadata": {
  "kernelspec": {
   "display_name": "Python 3 (ipykernel)",
   "language": "python",
   "name": "python3"
  },
  "language_info": {
   "codemirror_mode": {
    "name": "ipython",
    "version": 3
   },
   "file_extension": ".py",
   "mimetype": "text/x-python",
   "name": "python",
   "nbconvert_exporter": "python",
   "pygments_lexer": "ipython3",
   "version": "3.9.23"
  }
 },
 "nbformat": 4,
 "nbformat_minor": 5
}
